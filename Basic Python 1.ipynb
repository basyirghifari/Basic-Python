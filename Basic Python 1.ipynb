{
 "cells": [
  {
   "cell_type": "code",
   "execution_count": 2,
   "id": "8bf28688",
   "metadata": {},
   "outputs": [
    {
     "data": {
      "text/plain": [
       "1"
      ]
     },
     "execution_count": 2,
     "metadata": {},
     "output_type": "execute_result"
    }
   ],
   "source": [
    "#Just number Comment\n",
    "1"
   ]
  },
  {
   "cell_type": "code",
   "execution_count": 9,
   "id": "d7d33a95",
   "metadata": {},
   "outputs": [
    {
     "data": {
      "text/plain": [
       "1.1"
      ]
     },
     "execution_count": 9,
     "metadata": {},
     "output_type": "execute_result"
    }
   ],
   "source": [
    "#add '.' to make decimal number\n",
    "1.1"
   ]
  },
  {
   "cell_type": "code",
   "execution_count": 8,
   "id": "cd6e804b",
   "metadata": {},
   "outputs": [
    {
     "data": {
      "text/plain": [
       "2.1"
      ]
     },
     "execution_count": 8,
     "metadata": {},
     "output_type": "execute_result"
    }
   ],
   "source": [
    "#addition\n",
    "1 + 1.1"
   ]
  },
  {
   "cell_type": "code",
   "execution_count": 7,
   "id": "19bccbcc",
   "metadata": {},
   "outputs": [
    {
     "data": {
      "text/plain": [
       "-0.10000000000000009"
      ]
     },
     "execution_count": 7,
     "metadata": {},
     "output_type": "execute_result"
    }
   ],
   "source": [
    "#substraction\n",
    "1 - 1.1"
   ]
  },
  {
   "cell_type": "code",
   "execution_count": 10,
   "id": "b77b1d22",
   "metadata": {},
   "outputs": [
    {
     "data": {
      "text/plain": [
       "0.9090909090909091"
      ]
     },
     "execution_count": 10,
     "metadata": {},
     "output_type": "execute_result"
    }
   ],
   "source": [
    "#divide\n",
    "1 / 1.1"
   ]
  },
  {
   "cell_type": "code",
   "execution_count": 11,
   "id": "b605603f",
   "metadata": {},
   "outputs": [
    {
     "data": {
      "text/plain": [
       "4.4"
      ]
     },
     "execution_count": 11,
     "metadata": {},
     "output_type": "execute_result"
    }
   ],
   "source": [
    "#multiplication\n",
    "1.1 * 4"
   ]
  },
  {
   "cell_type": "code",
   "execution_count": 12,
   "id": "e830a961",
   "metadata": {},
   "outputs": [
    {
     "data": {
      "text/plain": [
       "512"
      ]
     },
     "execution_count": 12,
     "metadata": {},
     "output_type": "execute_result"
    }
   ],
   "source": [
    "#exp\n",
    "2 ** 9"
   ]
  },
  {
   "cell_type": "code",
   "execution_count": 13,
   "id": "98c5d572",
   "metadata": {},
   "outputs": [
    {
     "data": {
      "text/plain": [
       "0"
      ]
     },
     "execution_count": 13,
     "metadata": {},
     "output_type": "execute_result"
    }
   ],
   "source": [
    "#mod\n",
    "4 % 2"
   ]
  },
  {
   "cell_type": "code",
   "execution_count": 14,
   "id": "48f66d7a",
   "metadata": {},
   "outputs": [
    {
     "data": {
      "text/plain": [
       "40"
      ]
     },
     "execution_count": 14,
     "metadata": {},
     "output_type": "execute_result"
    }
   ],
   "source": [
    "#order operation\n",
    "2+5 * 7+3"
   ]
  },
  {
   "cell_type": "code",
   "execution_count": 15,
   "id": "c2c2e596",
   "metadata": {},
   "outputs": [
    {
     "data": {
      "text/plain": [
       "70"
      ]
     },
     "execution_count": 15,
     "metadata": {},
     "output_type": "execute_result"
    }
   ],
   "source": [
    "#parenthesis\n",
    "(2+5) * (7+3)"
   ]
  },
  {
   "cell_type": "code",
   "execution_count": 16,
   "id": "66dff544",
   "metadata": {},
   "outputs": [],
   "source": [
    "#variable\n",
    "var = 9"
   ]
  },
  {
   "cell_type": "code",
   "execution_count": 17,
   "id": "c2c1a8cf",
   "metadata": {},
   "outputs": [
    {
     "data": {
      "text/plain": [
       "9"
      ]
     },
     "execution_count": 17,
     "metadata": {},
     "output_type": "execute_result"
    }
   ],
   "source": [
    "#call variable\n",
    "var"
   ]
  },
  {
   "cell_type": "code",
   "execution_count": 18,
   "id": "c18d6638",
   "metadata": {},
   "outputs": [],
   "source": [
    "#variable\n",
    "x = 3\n",
    "y = 8"
   ]
  },
  {
   "cell_type": "code",
   "execution_count": 19,
   "id": "a528d764",
   "metadata": {},
   "outputs": [
    {
     "data": {
      "text/plain": [
       "24"
      ]
     },
     "execution_count": 19,
     "metadata": {},
     "output_type": "execute_result"
    }
   ],
   "source": [
    "x * y"
   ]
  },
  {
   "cell_type": "code",
   "execution_count": 20,
   "id": "4c9b522d",
   "metadata": {},
   "outputs": [
    {
     "data": {
      "text/plain": [
       "'String'"
      ]
     },
     "execution_count": 20,
     "metadata": {},
     "output_type": "execute_result"
    }
   ],
   "source": [
    "#string single quote\n",
    "'String'"
   ]
  },
  {
   "cell_type": "code",
   "execution_count": 21,
   "id": "2e5bb753",
   "metadata": {},
   "outputs": [
    {
     "data": {
      "text/plain": [
       "\"It's String\""
      ]
     },
     "execution_count": 21,
     "metadata": {},
     "output_type": "execute_result"
    }
   ],
   "source": [
    "#string double quote\n",
    "\"It's String\""
   ]
  },
  {
   "cell_type": "code",
   "execution_count": 31,
   "id": "8a07c055",
   "metadata": {},
   "outputs": [
    {
     "name": "stdout",
     "output_type": "stream",
     "text": [
      "Ghifari\n"
     ]
    }
   ],
   "source": [
    "#print\n",
    "name = 'Ghifari'\n",
    "num = 9\n",
    "#print\n",
    "print(name)"
   ]
  },
  {
   "cell_type": "code",
   "execution_count": 32,
   "id": "bb7c17cd",
   "metadata": {},
   "outputs": [
    {
     "name": "stdout",
     "output_type": "stream",
     "text": [
      "Ghifari has 9 apples\n"
     ]
    }
   ],
   "source": [
    "#print format\n",
    "print('{} has {} apples'.format(name,num))"
   ]
  },
  {
   "cell_type": "code",
   "execution_count": 33,
   "id": "ecaeabd0",
   "metadata": {},
   "outputs": [
    {
     "data": {
      "text/plain": [
       "'a'"
      ]
     },
     "execution_count": 33,
     "metadata": {},
     "output_type": "execute_result"
    }
   ],
   "source": [
    "#index (start with 0)\n",
    "name[4]"
   ]
  },
  {
   "cell_type": "code",
   "execution_count": 34,
   "id": "952d5511",
   "metadata": {},
   "outputs": [
    {
     "data": {
      "text/plain": [
       "'Ghif'"
      ]
     },
     "execution_count": 34,
     "metadata": {},
     "output_type": "execute_result"
    }
   ],
   "source": [
    "#index grab to 4\n",
    "name[:4]"
   ]
  },
  {
   "cell_type": "code",
   "execution_count": 35,
   "id": "1928905c",
   "metadata": {},
   "outputs": [
    {
     "data": {
      "text/plain": [
       "'Ghif'"
      ]
     },
     "execution_count": 35,
     "metadata": {},
     "output_type": "execute_result"
    }
   ],
   "source": [
    "#index grab 1 to 4\n",
    "name[0:4]"
   ]
  },
  {
   "cell_type": "code",
   "execution_count": 36,
   "id": "fb833c41",
   "metadata": {},
   "outputs": [
    {
     "data": {
      "text/plain": [
       "[1, 2, 3, 4, 5, 6, 7]"
      ]
     },
     "execution_count": 36,
     "metadata": {},
     "output_type": "execute_result"
    }
   ],
   "source": [
    "#list number\n",
    "[1,2,3,4,5,6,7]"
   ]
  },
  {
   "cell_type": "code",
   "execution_count": 37,
   "id": "8c8e417e",
   "metadata": {},
   "outputs": [
    {
     "data": {
      "text/plain": [
       "['a', 'b', 'c', 'd', 'e', 'f', 'g']"
      ]
     },
     "execution_count": 37,
     "metadata": {},
     "output_type": "execute_result"
    }
   ],
   "source": [
    "#list string\n",
    "['a','b','c','d','e','f','g']"
   ]
  },
  {
   "cell_type": "code",
   "execution_count": 39,
   "id": "4c08f055",
   "metadata": {},
   "outputs": [],
   "source": [
    "#list variable \n",
    "list = ['a','b','c','d','e','f','g']"
   ]
  },
  {
   "cell_type": "code",
   "execution_count": 42,
   "id": "a3b80ba6",
   "metadata": {},
   "outputs": [
    {
     "data": {
      "text/plain": [
       "['a', 'b', 'c', 'd', 'e', 'f', 'g', 'h', 'h', 'h']"
      ]
     },
     "execution_count": 42,
     "metadata": {},
     "output_type": "execute_result"
    }
   ],
   "source": [
    "#append list variable\n",
    "list.append('h')\n",
    "list"
   ]
  },
  {
   "cell_type": "code",
   "execution_count": 43,
   "id": "c02a3f60",
   "metadata": {},
   "outputs": [],
   "source": [
    "#list inside a list\n",
    "list2 = [1,2,3,[4,5,[6,7,8]]]"
   ]
  },
  {
   "cell_type": "code",
   "execution_count": 49,
   "id": "0e31ce86",
   "metadata": {},
   "outputs": [
    {
     "data": {
      "text/plain": [
       "7"
      ]
     },
     "execution_count": 49,
     "metadata": {},
     "output_type": "execute_result"
    }
   ],
   "source": [
    "#grab nested list\n",
    "list2[3][2][1]"
   ]
  },
  {
   "cell_type": "code",
   "execution_count": null,
   "id": "43a14434",
   "metadata": {},
   "outputs": [],
   "source": []
  }
 ],
 "metadata": {
  "kernelspec": {
   "display_name": "Python 3",
   "language": "python",
   "name": "python3"
  },
  "language_info": {
   "codemirror_mode": {
    "name": "ipython",
    "version": 3
   },
   "file_extension": ".py",
   "mimetype": "text/x-python",
   "name": "python",
   "nbconvert_exporter": "python",
   "pygments_lexer": "ipython3",
   "version": "3.8.8"
  }
 },
 "nbformat": 4,
 "nbformat_minor": 5
}
